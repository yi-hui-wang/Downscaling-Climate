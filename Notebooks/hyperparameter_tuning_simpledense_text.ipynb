{
  "cells": [
    {
      "cell_type": "markdown",
      "source": [
        "**Goal:**\n",
        "\n",
        "The purpose of this code is to find the optimal hyperparameters for a model, representing the early stage of a pipeline. These optimal hyperparameters identified will be then used to train the model. For simplicity and demonstration purposes, this code uses a simple dense model and performs random search for hyperparameter tuning, as described in Rampal et al. (2022). It can easily be adapted for grid search as well.\n",
        "\n",
        "**Steps:**\n",
        "\n",
        "**Preparation:** Import necessary packages and libraries, and define the training, testing, and validation datasets.\n",
        "\n",
        "**Define the model and hyperparameter space:** A function is created to specify the search space for individual hyperparameters and to define the simple dense model. Four hyperparameters are considered: learning rate, dense layers, dropout rate, and batch size. In this case, using daily precipitation data, the batch size corresponds to the number of days. For example, in a dataset with 300 days and a batch size of 100, there will be 3 batches. Each batch will update the weights and MSE, with the MSE at a given epoch being the average across all batches. By default, batches are selected randomly unless shuffling is disabled.\n",
        "\n",
        "**Perform random search:** The code was run with 10 and 20 trials, where each trial represents a different combination of hyperparameter values. Running different numbers of trials can yield slightly different optimal hyperparameters. Each trial runs for the assigned number of epochs (25 in this case) and records the average MSE using the validation dataset. Throughout the trials, the hyperparameter setup that produces the lowest validation MSE is saved as the optimal configuration. Note that the initial run may take longer since all trials are executed, but results are saved to a folder for reuse to reduce time in future runs.\n",
        "\n",
        "**Evaluate model performance:** The code generates a learning curve, plotting MSE as a function of the number of epochs for both the training and validation datasets. The plot shows that the validation MSE stabilizes after 5 epochs, indicating the optimal number of epochs. If the validation MSE stabilizes while the training MSE continues to decline, it suggests a risk of overfitting when using larger epoch numbers.\n",
        "\n",
        "**Future Work:**\n",
        "\n",
        "\n",
        "*   This code does not yet account for the relative importance of hyperparameters, which could be prioritized in future tuning efforts.\n",
        "*   The hyperparameter tuning process can be expanded to include more complex models, such as CNNs.\n",
        "*   Shuffling is enabled during batch selection, which disrupts the temporal dependencies in precipitation data. Investigating the impact of shuffling on model performance could be an area of exploration."
      ],
      "metadata": {
        "id": "vLQkih33RvTV"
      },
      "id": "vLQkih33RvTV"
    },
    {
      "cell_type": "code",
      "execution_count": null,
      "id": "912ba7e2",
      "metadata": {
        "id": "912ba7e2",
        "outputId": "baface74-1848-48cd-8c9d-6d59354f6477"
      },
      "outputs": [
        {
          "name": "stderr",
          "output_type": "stream",
          "text": [
            "2024-10-12 01:42:00.419373: I tensorflow/core/util/port.cc:110] oneDNN custom operations are on. You may see slightly different numerical results due to floating-point round-off errors from different computation orders. To turn them off, set the environment variable `TF_ENABLE_ONEDNN_OPTS=0`.\n",
            "2024-10-12 01:42:00.421864: I tensorflow/tsl/cuda/cudart_stub.cc:28] Could not find cuda drivers on your machine, GPU will not be used.\n",
            "2024-10-12 01:42:00.463552: I tensorflow/tsl/cuda/cudart_stub.cc:28] Could not find cuda drivers on your machine, GPU will not be used.\n",
            "2024-10-12 01:42:00.464282: I tensorflow/core/platform/cpu_feature_guard.cc:182] This TensorFlow binary is optimized to use available CPU instructions in performance-critical operations.\n",
            "To enable the following instructions: AVX2 AVX512F AVX512_VNNI FMA, in other operations, rebuild TensorFlow with the appropriate compiler flags.\n",
            "2024-10-12 01:42:02.749633: W tensorflow/compiler/tf2tensorrt/utils/py_utils.cc:38] TF-TRT Warning: Could not find TensorRT\n"
          ]
        },
        {
          "name": "stdout",
          "output_type": "stream",
          "text": [
            "2.13.1\n"
          ]
        }
      ],
      "source": [
        "### import needed packages\n",
        "import tensorflow as tf\n",
        "print(tf.__version__)\n",
        "\n",
        "from tensorflow import keras\n",
        "from tensorflow.keras import layers\n",
        "from tensorflow.keras.optimizers import Adam\n",
        "import keras_tuner as kt  # Import the tuner from TensorFlow Keras\n"
      ]
    },
    {
      "cell_type": "code",
      "execution_count": null,
      "id": "9d885eb3",
      "metadata": {
        "id": "9d885eb3"
      },
      "outputs": [],
      "source": [
        "import pandas as pd\n",
        "import xarray as xr\n",
        "import matplotlib.pyplot as plt\n",
        "import xarray as xr\n",
        "import os\n",
        "import numpy as np\n",
        "import sys\n",
        "import tensorflow.keras.backend as K\n",
        "\n",
        "# my working paths\n",
        "sys.path.append(r'/home/u1281808/High-res-interpretable-dl/src')\n",
        "# change to the directory of the \"src file\"\n",
        "os.chdir(r'/home/u1281808/High-res-interpretable-dl')\n",
        "\n",
        "from dask.diagnostics import ProgressBar\n",
        "import cmocean\n",
        "from models import train_model, complex_conv, simple_conv, predict, simple_dense, linear_complex_model\n",
        "from losses import gamma_loss_1d, gamma_mse_metric\n",
        "from prepare_data import format_features, prepare_training_dataset, create_test_train_split\n",
        "\n",
        "tf.random.set_seed(2)"
      ]
    },
    {
      "cell_type": "code",
      "execution_count": null,
      "id": "03a403c8",
      "metadata": {
        "id": "03a403c8",
        "outputId": "83b51e67-1cc7-4645-fa2e-b64e15ba26d1"
      },
      "outputs": [
        {
          "name": "stdout",
          "output_type": "stream",
          "text": [
            "[########################################] | 100% Completed | 6.06 ss\n",
            "[########################################] | 100% Completed | 507.13 ms\n",
            "[########################################] | 100% Completed | 2.02 ss\n",
            "[########################################] | 100% Completed | 204.70 ms\n",
            "[########################################] | 100% Completed | 826.90 ms\n",
            "[########################################] | 100% Completed | 101.54 ms\n"
          ]
        }
      ],
      "source": [
        "# select the input and output data, following Rampal et al. (2022)\n",
        "config = dict(y = \"/home/u1281808/High-res-interpretable-dl/training_data/topography_subset_full.nc\",\n",
        "              X = \"/home/u1281808/High-res-interpretable-dl/training_data/ERA5_training_dataset_6_3_23_bilinear_half_degree.nc\",\n",
        "              train_start = \"1982-01-01\",\n",
        "              train_end = \"2005-01-01\",\n",
        "              val_start = \"2005-02-01\",\n",
        "              val_end = \"2010-01-01\",\n",
        "              test_start = \"2010-01-01\",\n",
        "              test_end = \"2018-12-01\",\n",
        "              downscale_variables = ['w_850', 'u_850', 'v_850', 'q_850', 't_850'])\n",
        "\n",
        "x_train, x_val, x_test, y_train, y_val, y_test = create_test_train_split(config)\n",
        "x_train, x_test, x_val, y_train, y_test, y_val = prepare_training_dataset(x_train, x_val, x_test, y_train, y_val, y_test)\n",
        "\n",
        "### modify the original code by yhw\n",
        "# Ensure y_train, y_val, and y_test datasets have consistent type with x\n",
        "y_train_var = y_train['pr']\n",
        "y_val_var = y_val['pr']\n",
        "y_test_var = y_test['pr']\n",
        "\n",
        "# Convert x_train, y_train_var, x_val, y_val_var, x_test, and y_test_var to NumPy arrays\n",
        "x_train_np = x_train.values\n",
        "y_train_np = y_train_var.values  # y_train_var is now an xarray.DataArray\n",
        "x_val_np = x_val.values\n",
        "y_val_np = y_val_var.values\n",
        "x_test_np = x_test.values\n",
        "y_test_np = y_test_var.values\n",
        "\n",
        "input_shape = x_train_np.shape[1:]  # Use the NumPy array shape for input\n",
        "output_shape = y_train_np.shape[1]  # Assuming the second dimension represents the output shape, modify if needed"
      ]
    },
    {
      "cell_type": "code",
      "execution_count": null,
      "id": "ef150133",
      "metadata": {
        "id": "ef150133",
        "outputId": "8cc994c5-5fce-46b8-cf57-61b1050ee910"
      },
      "outputs": [
        {
          "name": "stdout",
          "output_type": "stream",
          "text": [
            "Search space summary\n",
            "Default search space size: 4\n",
            "dense_layers (Choice)\n",
            "{'default': 64, 'conditions': [], 'values': [64, 128, 256, 512], 'ordered': True}\n",
            "dropout_rate (Float)\n",
            "{'default': 0.1, 'conditions': [], 'min_value': 0.1, 'max_value': 0.7, 'step': 0.1, 'sampling': 'linear'}\n",
            "learning_rate (Choice)\n",
            "{'default': 0.0001, 'conditions': [], 'values': [0.0001, 0.001, 0.01], 'ordered': True}\n",
            "batch_size (Choice)\n",
            "{'default': 32, 'conditions': [], 'values': [32, 64, 128], 'ordered': True}\n"
          ]
        },
        {
          "name": "stderr",
          "output_type": "stream",
          "text": [
            "2024-10-12 01:42:40.756261: W tensorflow/core/common_runtime/gpu/gpu_device.cc:1960] Cannot dlopen some GPU libraries. Please make sure the missing libraries mentioned above are installed properly if you would like to use GPU. Follow the guide at https://www.tensorflow.org/install/gpu for how to download and setup the required libraries for your platform.\n",
            "Skipping registering GPU devices...\n",
            "2024-10-12 01:42:40.770195: W tensorflow/compiler/jit/mark_for_compilation_pass.cc:1794] (One-time warning): Not using XLA:CPU for cluster.\n",
            "\n",
            "If you want XLA:CPU, do one of the following:\n",
            "\n",
            " - set the TF_XLA_FLAGS to include \"--tf_xla_cpu_global_jit\", or\n",
            " - set cpu_global_jit to true on this session's OptimizerOptions, or\n",
            " - use experimental_jit_scope, or\n",
            " - use tf.function(jit_compile=True).\n",
            "\n",
            "To confirm that XLA is active, pass --vmodule=xla_compilation_cache=1 (as a\n",
            "proper command-line flag, not via TF_XLA_FLAGS).\n"
          ]
        }
      ],
      "source": [
        "# Define a model-building function for the simple_dense model\n",
        "# using different combinations of four hyperparameters\n",
        "def build_simple_dense_model(hp):\n",
        "    # Tune the number of neurons in the dense layers\n",
        "    dense_layers = hp.Choice('dense_layers', values=[64, 128, 256, 512])\n",
        "\n",
        "    # Tune the dropout rate between 0.1 and 0.7\n",
        "    dropout_rate = hp.Float('dropout_rate', min_value=0.1, max_value=0.7, step=0.1)\n",
        "\n",
        "    # Tune the learning rate from a list of choices\n",
        "    learning_rate = hp.Choice('learning_rate', values=[1e-4, 1e-3, 1e-2])\n",
        "\n",
        "    # Tune the batch size, number of days in daily precipitation selected from the training data\n",
        "    batch_size = hp.Choice('batch_size', values=[32, 64, 128])\n",
        "\n",
        "    # Create the simple_dense model with randomly sampled hyperparameters\n",
        "    model = simple_dense(\n",
        "        dense_layers=[dense_layers, output_shape],\n",
        "        dense_activation='selu',\n",
        "        input_shape=input_shape,\n",
        "        dropout=dropout_rate\n",
        "    )\n",
        "\n",
        "    # Compile the model with the randomly selected learning rate\n",
        "    model.compile(optimizer=tf.keras.optimizers.Adam(learning_rate=learning_rate),\n",
        "                  loss='mse', metrics=['mse'])\n",
        "\n",
        "    return model\n",
        "\n",
        "# Instantiate the tuner and perform a random search\n",
        "tuner = kt.RandomSearch(\n",
        "    build_simple_dense_model,\n",
        "    objective='val_mse',\n",
        "    # test between 10 and 20\n",
        "    max_trials = 20,  # Number of different hyperparameter combinations to try\n",
        "    executions_per_trial=1,  # Number of models to train per trial\n",
        "    directory='hyperparameter_tuning',  # Directory to save results\n",
        "    project_name='simple_dense_tuning'\n",
        ")\n",
        "\n",
        "# Define search space for hyperparameter tuning\n",
        "tuner.search_space_summary()"
      ]
    },
    {
      "cell_type": "code",
      "execution_count": null,
      "id": "81c0332c",
      "metadata": {
        "id": "81c0332c",
        "outputId": "d4c10dd6-ce12-4c8c-b33d-ff9562fad2b3"
      },
      "outputs": [
        {
          "name": "stdout",
          "output_type": "stream",
          "text": [
            "Trial 20 Complete [00h 01m 35s]\n",
            "val_mse: 37.849884033203125\n",
            "\n",
            "Best val_mse So Far: 35.63283920288086\n",
            "Total elapsed time: 00h 51m 43s\n",
            "\n",
            "The optimal number of dense layers is 512 and\n",
            "the optimal dropout rate is 0.1 with a learning rate of 0.0001.\n",
            "\n",
            "\n",
            "The optimal batch size is 32\n",
            "\n",
            "Epoch 1/25\n",
            "263/263 [==============================] - 13s 48ms/step - loss: 69.6701 - mse: 69.6701 - val_loss: 51.8776 - val_mse: 51.8776\n",
            "Epoch 2/25\n",
            "263/263 [==============================] - 12s 46ms/step - loss: 52.9824 - mse: 52.9824 - val_loss: 46.5252 - val_mse: 46.5252\n",
            "Epoch 3/25\n",
            "263/263 [==============================] - 12s 46ms/step - loss: 47.7063 - mse: 47.7063 - val_loss: 43.7405 - val_mse: 43.7405\n",
            "Epoch 4/25\n",
            "263/263 [==============================] - 12s 46ms/step - loss: 44.4134 - mse: 44.4134 - val_loss: 42.3168 - val_mse: 42.3168\n",
            "Epoch 5/25\n",
            "263/263 [==============================] - 12s 46ms/step - loss: 41.9907 - mse: 41.9907 - val_loss: 40.6211 - val_mse: 40.6211\n",
            "Epoch 6/25\n",
            "263/263 [==============================] - 12s 46ms/step - loss: 39.8456 - mse: 39.8456 - val_loss: 40.3632 - val_mse: 40.3632\n",
            "Epoch 7/25\n",
            "263/263 [==============================] - 12s 46ms/step - loss: 38.1030 - mse: 38.1030 - val_loss: 38.7270 - val_mse: 38.7270\n",
            "Epoch 8/25\n",
            "263/263 [==============================] - 12s 46ms/step - loss: 36.7057 - mse: 36.7057 - val_loss: 38.0678 - val_mse: 38.0678\n",
            "Epoch 9/25\n",
            "263/263 [==============================] - 12s 46ms/step - loss: 35.5420 - mse: 35.5420 - val_loss: 37.9023 - val_mse: 37.9023\n",
            "Epoch 10/25\n",
            "263/263 [==============================] - 12s 46ms/step - loss: 34.3882 - mse: 34.3882 - val_loss: 37.8302 - val_mse: 37.8302\n",
            "Epoch 11/25\n",
            "263/263 [==============================] - 12s 47ms/step - loss: 33.3647 - mse: 33.3647 - val_loss: 37.0933 - val_mse: 37.0933\n",
            "Epoch 12/25\n",
            "263/263 [==============================] - 12s 46ms/step - loss: 32.5037 - mse: 32.5037 - val_loss: 36.9627 - val_mse: 36.9627\n",
            "Epoch 13/25\n",
            "263/263 [==============================] - 12s 46ms/step - loss: 31.5789 - mse: 31.5789 - val_loss: 36.6393 - val_mse: 36.6393\n",
            "Epoch 14/25\n",
            "263/263 [==============================] - 12s 46ms/step - loss: 30.7205 - mse: 30.7205 - val_loss: 36.6613 - val_mse: 36.6613\n",
            "Epoch 15/25\n",
            "263/263 [==============================] - 12s 46ms/step - loss: 30.0090 - mse: 30.0090 - val_loss: 36.9042 - val_mse: 36.9042\n",
            "Epoch 16/25\n",
            "263/263 [==============================] - 12s 46ms/step - loss: 29.2214 - mse: 29.2214 - val_loss: 36.3026 - val_mse: 36.3026\n",
            "Epoch 17/25\n",
            "263/263 [==============================] - 12s 47ms/step - loss: 28.5786 - mse: 28.5786 - val_loss: 36.3172 - val_mse: 36.3172\n",
            "Epoch 18/25\n",
            "263/263 [==============================] - 12s 46ms/step - loss: 27.9304 - mse: 27.9304 - val_loss: 36.1920 - val_mse: 36.1920\n",
            "Epoch 19/25\n",
            "263/263 [==============================] - 12s 46ms/step - loss: 27.2597 - mse: 27.2597 - val_loss: 36.6971 - val_mse: 36.6971\n",
            "Epoch 20/25\n",
            "263/263 [==============================] - 12s 46ms/step - loss: 26.5908 - mse: 26.5908 - val_loss: 35.9624 - val_mse: 35.9624\n",
            "Epoch 21/25\n",
            "263/263 [==============================] - 12s 46ms/step - loss: 26.0642 - mse: 26.0642 - val_loss: 36.2010 - val_mse: 36.2010\n",
            "Epoch 22/25\n",
            "263/263 [==============================] - 12s 46ms/step - loss: 25.4136 - mse: 25.4136 - val_loss: 35.9125 - val_mse: 35.9125\n",
            "Epoch 23/25\n",
            "263/263 [==============================] - 12s 46ms/step - loss: 24.9384 - mse: 24.9384 - val_loss: 35.7575 - val_mse: 35.7575\n",
            "Epoch 24/25\n",
            "263/263 [==============================] - 12s 46ms/step - loss: 24.3852 - mse: 24.3852 - val_loss: 36.0073 - val_mse: 36.0073\n",
            "Epoch 25/25\n",
            "263/263 [==============================] - 12s 46ms/step - loss: 23.8653 - mse: 23.8653 - val_loss: 36.1211 - val_mse: 36.1211\n",
            "102/102 [==============================] - 1s 7ms/step - loss: 42.1380 - mse: 42.1380\n",
            "Test MSE: 42.13797378540039\n"
          ]
        },
        {
          "data": {
            "image/png": "[encoded data removed]",
            "text/plain": [
              "<Figure size 640x480 with 1 Axes>"
            ]
          },
          "metadata": {},
          "output_type": "display_data"
        }
      ],
      "source": [
        "# Perform the search\n",
        "tuner.search(x_train_np, y_train_np, epochs = 25, validation_data=(x_val_np, y_val_np))\n",
        "\n",
        "# Get the best hyperparameters\n",
        "best_hps = tuner.get_best_hyperparameters(num_trials=1)[0]\n",
        "print(f\"\"\"\n",
        "The optimal number of dense layers is {best_hps.get('dense_layers')} and\n",
        "the optimal dropout rate is {best_hps.get('dropout_rate')} with a learning rate of {best_hps.get('learning_rate')}.\n",
        "\"\"\")\n",
        "\n",
        "# Extract the best batch size for training\n",
        "best_batch_size = best_hps.get('batch_size')\n",
        "print(f\"\"\"\n",
        "The optimal batch size is {best_batch_size}\n",
        "\"\"\")\n",
        "\n",
        "# Train the model with the best hyperparameters\n",
        "model = tuner.hypermodel.build(best_hps)\n",
        "history = model.fit(x_train_np, y_train_np, epochs = 25, validation_data=(x_val_np, y_val_np))\n",
        "\n",
        "# Evaluate the model on test data\n",
        "test_loss, test_mse = model.evaluate(x_test_np, y_test_np)\n",
        "print(f\"Test MSE: {test_mse}\")\n",
        "\n",
        "# Create a figure object\n",
        "fig = plt.figure()\n",
        "\n",
        "# Visualize the model performance (training vs. validation)\n",
        "plt.plot(history.history['mse'], label='Train MSE')\n",
        "plt.plot(history.history['val_mse'], label='Val MSE')\n",
        "plt.xlabel('Epochs')\n",
        "plt.ylabel('Mean Squared Error')\n",
        "plt.title('Model Training History with Optimal Hyperparameters')\n",
        "plt.legend()\n",
        "plt.show()\n",
        "\n",
        "fig.savefig('hyperparmeter_tuning_simpledense_mse_trail20.png', dpi=300)\n"
      ]
    },
    {
      "cell_type": "code",
      "execution_count": null,
      "id": "f5f1ef29",
      "metadata": {
        "id": "f5f1ef29"
      },
      "outputs": [],
      "source": []
    }
  ],
  "metadata": {
    "kernelspec": {
      "display_name": "Python (high_res_env)",
      "language": "python",
      "name": "high_res_env"
    },
    "language_info": {
      "codemirror_mode": {
        "name": "ipython",
        "version": 3
      },
      "file_extension": ".py",
      "mimetype": "text/x-python",
      "name": "python",
      "nbconvert_exporter": "python",
      "pygments_lexer": "ipython3",
      "version": "3.8.18"
    },
    "colab": {
      "provenance": []
    }
  },
  "nbformat": 4,
  "nbformat_minor": 5
}
